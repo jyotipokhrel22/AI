{
 "cells": [
  {
   "cell_type": "code",
   "execution_count": 3,
   "id": "b5820468-6bd8-4133-8f67-fe3dfc4f2a29",
   "metadata": {},
   "outputs": [],
   "source": [
    "import re"
   ]
  },
  {
   "cell_type": "code",
   "execution_count": 7,
   "id": "7dab14d1-dac5-4427-9821-2e640bab4bb0",
   "metadata": {},
   "outputs": [],
   "source": [
    "my_string = \"Hello! My name is Alice. I have 2 cats and 1 dog. Do you like animals?\""
   ]
  },
  {
   "cell_type": "code",
   "execution_count": 8,
   "id": "1c40bad9-18fd-4008-a158-cd1a8eee3cfe",
   "metadata": {},
   "outputs": [],
   "source": [
    "# Write a pattern to match sentence endings: sentence_endings\n",
    "sentence_endings = r\"[.?!]\""
   ]
  },
  {
   "cell_type": "code",
   "execution_count": 9,
   "id": "1758d59f-2840-4e0f-9ba4-cbde9889c986",
   "metadata": {},
   "outputs": [
    {
     "name": "stdout",
     "output_type": "stream",
     "text": [
      "['Hello', ' My name is Alice', ' I have 2 cats and 1 dog', ' Do you like animals', '']\n"
     ]
    }
   ],
   "source": [
    "# Split my_string on sentence endings and print the result\n",
    "print(re.split(sentence_endings, my_string))"
   ]
  },
  {
   "cell_type": "code",
   "execution_count": 10,
   "id": "135f6443-9dab-4dce-bf6b-6bae8552955d",
   "metadata": {},
   "outputs": [
    {
     "name": "stdout",
     "output_type": "stream",
     "text": [
      "['Hello', 'My', 'Alice', 'Do']\n"
     ]
    }
   ],
   "source": [
    "# Find all capitalized words in my_string and print the result\n",
    "capitalized_words = r\"[A-Z]\\w+\"\n",
    "print(re.findall(capitalized_words, my_string))"
   ]
  },
  {
   "cell_type": "code",
   "execution_count": 11,
   "id": "f9aba628-2ca0-4d6c-b40c-45b072e5bfd0",
   "metadata": {},
   "outputs": [
    {
     "name": "stdout",
     "output_type": "stream",
     "text": [
      "['Hello!', 'My', 'name', 'is', 'Alice.', 'I', 'have', '2', 'cats', 'and', '1', 'dog.', 'Do', 'you', 'like', 'animals?']\n"
     ]
    }
   ],
   "source": [
    "# Split my_string on spaces and print the result\n",
    "spaces = r\"\\s+\"\n",
    "print(re.split(spaces, my_string))"
   ]
  },
  {
   "cell_type": "code",
   "execution_count": 12,
   "id": "afa43b0f-35b8-4828-8693-4830bb316a4c",
   "metadata": {},
   "outputs": [
    {
     "name": "stdout",
     "output_type": "stream",
     "text": [
      "['2', '1']\n"
     ]
    }
   ],
   "source": [
    "# Find all digits in my_string and print the result\n",
    "digits = r\"\\d+\"\n",
    "print(re.findall(digits, my_string))"
   ]
  }
 ],
 "metadata": {
  "kernelspec": {
   "display_name": "Python 3 (ipykernel)",
   "language": "python",
   "name": "python3"
  },
  "language_info": {
   "codemirror_mode": {
    "name": "ipython",
    "version": 3
   },
   "file_extension": ".py",
   "mimetype": "text/x-python",
   "name": "python",
   "nbconvert_exporter": "python",
   "pygments_lexer": "ipython3",
   "version": "3.13.5"
  }
 },
 "nbformat": 4,
 "nbformat_minor": 5
}
